{
 "cells": [
  {
   "cell_type": "markdown",
   "id": "1285e6a8",
   "metadata": {},
   "source": [
    "# Lab 08 - Soham Deshkhaire\n",
    "## Regression Modeling on Employment Data"
   ]
  },
  {
   "cell_type": "code",
   "execution_count": null,
   "id": "7d7dc989",
   "metadata": {},
   "outputs": [],
   "source": [
    "# 1. Setup & Initialization\n",
    "from pyspark.sql import SparkSession\n",
    "import pandas as pd\n",
    "import matplotlib.pyplot as plt\n",
    "import seaborn as sns\n",
    "import plotly.io as pio\n",
    "pio.renderers.default = \"notebook\"\n",
    "from pyspark.ml.feature import StringIndexer, OneHotEncoder, VectorAssembler\n",
    "from pyspark.ml.regression import LinearRegression\n",
    "from pyspark.ml.evaluation import RegressionEvaluator\n",
    "\n",
    "# Initialize Spark Session\n",
    "spark = SparkSession.builder.appName(\"LightcastData\").getOrCreate()"
   ]
  },
  {
   "cell_type": "code",
   "execution_count": 1,
   "id": "e1f7d72b",
   "metadata": {},
   "outputs": [
    {
     "ename": "NameError",
     "evalue": "name 'spark' is not defined",
     "output_type": "error",
     "traceback": [
      "\u001b[31m---------------------------------------------------------------------------\u001b[39m",
      "\u001b[31mNameError\u001b[39m                                 Traceback (most recent call last)",
      "\u001b[36mCell\u001b[39m\u001b[36m \u001b[39m\u001b[32mIn[1]\u001b[39m\u001b[32m, line 2\u001b[39m\n\u001b[32m      1\u001b[39m \u001b[38;5;66;03m# 2. Load Dataset\u001b[39;00m\n\u001b[32m----> \u001b[39m\u001b[32m2\u001b[39m df = \u001b[43mspark\u001b[49m.read.option(\u001b[33m\"\u001b[39m\u001b[33mheader\u001b[39m\u001b[33m\"\u001b[39m, \u001b[33m\"\u001b[39m\u001b[33mtrue\u001b[39m\u001b[33m\"\u001b[39m).option(\u001b[33m\"\u001b[39m\u001b[33minferSchema\u001b[39m\u001b[33m\"\u001b[39m, \u001b[33m\"\u001b[39m\u001b[33mtrue\u001b[39m\u001b[33m\"\u001b[39m).option(\u001b[33m\"\u001b[39m\u001b[33mmultiLine\u001b[39m\u001b[33m\"\u001b[39m,\u001b[33m\"\u001b[39m\u001b[33mtrue\u001b[39m\u001b[33m\"\u001b[39m).option(\u001b[33m\"\u001b[39m\u001b[33mescape\u001b[39m\u001b[33m\"\u001b[39m, \u001b[33m\"\u001b[39m\u001b[38;5;130;01m\\\"\u001b[39;00m\u001b[33m\"\u001b[39m).csv(\u001b[33m\"\u001b[39m\u001b[33m../../data/lightcast_job_postings.csv\u001b[39m\u001b[33m\"\u001b[39m)\n\u001b[32m      3\u001b[39m df = df.dropna(subset=[\u001b[33m\"\u001b[39m\u001b[33mSALARY\u001b[39m\u001b[33m\"\u001b[39m, \u001b[33m\"\u001b[39m\u001b[33mMAX_YEARS_EXPERIENCE\u001b[39m\u001b[33m\"\u001b[39m, \u001b[33m\"\u001b[39m\u001b[33mMIN_YEARS_EXPERIENCE\u001b[39m\u001b[33m\"\u001b[39m, \u001b[33m\"\u001b[39m\u001b[33mREMOTE_TYPE_NAME\u001b[39m\u001b[33m\"\u001b[39m])\n\u001b[32m      4\u001b[39m df.show(\u001b[32m5\u001b[39m)\n",
      "\u001b[31mNameError\u001b[39m: name 'spark' is not defined"
     ]
    }
   ],
   "source": [
    "# 2. Load Dataset\n",
    "df = spark.read.option(\"header\", \"true\").option(\"inferSchema\", \"true\").option(\"multiLine\",\"true\").option(\"escape\", \"\\\"\").csv(\"../../data/lightcast_job_postings.csv\")\n",
    "df = df.dropna(subset=[\"SALARY\", \"MAX_YEARS_EXPERIENCE\", \"MIN_YEARS_EXPERIENCE\", \"REMOTE_TYPE_NAME\"])\n",
    "df.show(5)"
   ]
  },
  {
   "cell_type": "code",
   "execution_count": null,
   "id": "06375d95",
   "metadata": {},
   "outputs": [],
   "source": [
    "# 3. Feature Engineering\n",
    "data = df.select(\"SALARY\", \"MAX_YEARS_EXPERIENCE\", \"MIN_YEARS_EXPERIENCE\", \"REMOTE_TYPE_NAME\")\n",
    "indexer = StringIndexer(inputCol=\"REMOTE_TYPE_NAME\", outputCol=\"remote_index\")\n",
    "data = indexer.fit(data).transform(data)\n",
    "encoder = OneHotEncoder(inputCol=\"remote_index\", outputCol=\"remote_ohe\")\n",
    "data = encoder.fit(data).transform(data)\n",
    "assembler = VectorAssembler(inputCols=[\"MAX_YEARS_EXPERIENCE\", \"MIN_YEARS_EXPERIENCE\", \"remote_ohe\"], outputCol=\"features\")\n",
    "final_data = assembler.transform(data).select(\"SALARY\", \"features\")"
   ]
  },
  {
   "cell_type": "code",
   "execution_count": 2,
   "id": "8a90b4d9",
   "metadata": {},
   "outputs": [
    {
     "ename": "NameError",
     "evalue": "name 'final_data' is not defined",
     "output_type": "error",
     "traceback": [
      "\u001b[31m---------------------------------------------------------------------------\u001b[39m",
      "\u001b[31mNameError\u001b[39m                                 Traceback (most recent call last)",
      "\u001b[36mCell\u001b[39m\u001b[36m \u001b[39m\u001b[32mIn[2]\u001b[39m\u001b[32m, line 2\u001b[39m\n\u001b[32m      1\u001b[39m \u001b[38;5;66;03m# 4. Train-Test Split\u001b[39;00m\n\u001b[32m----> \u001b[39m\u001b[32m2\u001b[39m train_data, test_data = \u001b[43mfinal_data\u001b[49m.randomSplit([\u001b[32m0.8\u001b[39m, \u001b[32m0.2\u001b[39m], seed=\u001b[32m42\u001b[39m)\n",
      "\u001b[31mNameError\u001b[39m: name 'final_data' is not defined"
     ]
    }
   ],
   "source": [
    "# 4. Train-Test Split\n",
    "train_data, test_data = final_data.randomSplit([0.8, 0.2], seed=42)"
   ]
  },
  {
   "cell_type": "code",
   "execution_count": 3,
   "id": "b8cd5640",
   "metadata": {},
   "outputs": [
    {
     "ename": "NameError",
     "evalue": "name 'LinearRegression' is not defined",
     "output_type": "error",
     "traceback": [
      "\u001b[31m---------------------------------------------------------------------------\u001b[39m",
      "\u001b[31mNameError\u001b[39m                                 Traceback (most recent call last)",
      "\u001b[36mCell\u001b[39m\u001b[36m \u001b[39m\u001b[32mIn[3]\u001b[39m\u001b[32m, line 2\u001b[39m\n\u001b[32m      1\u001b[39m \u001b[38;5;66;03m# 5. Linear Regression Model\u001b[39;00m\n\u001b[32m----> \u001b[39m\u001b[32m2\u001b[39m lr = \u001b[43mLinearRegression\u001b[49m(labelCol=\u001b[33m\"\u001b[39m\u001b[33mSALARY\u001b[39m\u001b[33m\"\u001b[39m, featuresCol=\u001b[33m\"\u001b[39m\u001b[33mfeatures\u001b[39m\u001b[33m\"\u001b[39m)\n\u001b[32m      3\u001b[39m model = lr.fit(train_data)\n\u001b[32m      4\u001b[39m test_results = model.evaluate(test_data)\n",
      "\u001b[31mNameError\u001b[39m: name 'LinearRegression' is not defined"
     ]
    }
   ],
   "source": [
    "# 5. Linear Regression Model\n",
    "lr = LinearRegression(labelCol=\"SALARY\", featuresCol=\"features\")\n",
    "model = lr.fit(train_data)\n",
    "test_results = model.evaluate(test_data)\n",
    "print(\"RMSE:\", test_results.rootMeanSquaredError)\n",
    "print(\"R2:\", test_results.r2)"
   ]
  },
  {
   "cell_type": "code",
   "execution_count": 4,
   "id": "99822262",
   "metadata": {},
   "outputs": [
    {
     "ename": "NameError",
     "evalue": "name 'model' is not defined",
     "output_type": "error",
     "traceback": [
      "\u001b[31m---------------------------------------------------------------------------\u001b[39m",
      "\u001b[31mNameError\u001b[39m                                 Traceback (most recent call last)",
      "\u001b[36mCell\u001b[39m\u001b[36m \u001b[39m\u001b[32mIn[4]\u001b[39m\u001b[32m, line 2\u001b[39m\n\u001b[32m      1\u001b[39m \u001b[38;5;66;03m# 6. Diagnostic Plots\u001b[39;00m\n\u001b[32m----> \u001b[39m\u001b[32m2\u001b[39m predictions = \u001b[43mmodel\u001b[49m.transform(test_data).select(\u001b[33m\"\u001b[39m\u001b[33mprediction\u001b[39m\u001b[33m\"\u001b[39m, \u001b[33m\"\u001b[39m\u001b[33mSALARY\u001b[39m\u001b[33m\"\u001b[39m).toPandas()\n\u001b[32m      3\u001b[39m predictions[\u001b[33m\"\u001b[39m\u001b[33mresiduals\u001b[39m\u001b[33m\"\u001b[39m] = predictions[\u001b[33m\"\u001b[39m\u001b[33mSALARY\u001b[39m\u001b[33m\"\u001b[39m] - predictions[\u001b[33m\"\u001b[39m\u001b[33mprediction\u001b[39m\u001b[33m\"\u001b[39m]\n\u001b[32m      5\u001b[39m plt.figure(figsize=(\u001b[32m6\u001b[39m,\u001b[32m6\u001b[39m))\n",
      "\u001b[31mNameError\u001b[39m: name 'model' is not defined"
     ]
    }
   ],
   "source": [
    "# 6. Diagnostic Plots\n",
    "predictions = model.transform(test_data).select(\"prediction\", \"SALARY\").toPandas()\n",
    "predictions[\"residuals\"] = predictions[\"SALARY\"] - predictions[\"prediction\"]\n",
    "\n",
    "plt.figure(figsize=(6,6))\n",
    "sns.scatterplot(x=\"SALARY\", y=\"prediction\", data=predictions)\n",
    "plt.plot([predictions.SALARY.min(), predictions.SALARY.max()], [predictions.SALARY.min(), predictions.SALARY.max()], 'r--')\n",
    "plt.title(\"Predicted vs Actual Salary\")\n",
    "plt.xlabel(\"Actual Salary\")\n",
    "plt.ylabel(\"Predicted Salary\")\n",
    "plt.grid(True)\n",
    "plt.savefig(\"_output/pred_vs_actual.png\")\n",
    "plt.show()"
   ]
  },
  {
   "cell_type": "code",
   "execution_count": 5,
   "id": "b0471e7e",
   "metadata": {},
   "outputs": [
    {
     "ename": "NameError",
     "evalue": "name 'plt' is not defined",
     "output_type": "error",
     "traceback": [
      "\u001b[31m---------------------------------------------------------------------------\u001b[39m",
      "\u001b[31mNameError\u001b[39m                                 Traceback (most recent call last)",
      "\u001b[36mCell\u001b[39m\u001b[36m \u001b[39m\u001b[32mIn[5]\u001b[39m\u001b[32m, line 2\u001b[39m\n\u001b[32m      1\u001b[39m \u001b[38;5;66;03m# Residuals vs Predicted\u001b[39;00m\n\u001b[32m----> \u001b[39m\u001b[32m2\u001b[39m \u001b[43mplt\u001b[49m.figure(figsize=(\u001b[32m6\u001b[39m,\u001b[32m6\u001b[39m))\n\u001b[32m      3\u001b[39m sns.scatterplot(x=\u001b[33m\"\u001b[39m\u001b[33mprediction\u001b[39m\u001b[33m\"\u001b[39m, y=\u001b[33m\"\u001b[39m\u001b[33mresiduals\u001b[39m\u001b[33m\"\u001b[39m, data=predictions)\n\u001b[32m      4\u001b[39m plt.axhline(\u001b[32m0\u001b[39m, linestyle=\u001b[33m'\u001b[39m\u001b[33m--\u001b[39m\u001b[33m'\u001b[39m, color=\u001b[33m'\u001b[39m\u001b[33mred\u001b[39m\u001b[33m'\u001b[39m)\n",
      "\u001b[31mNameError\u001b[39m: name 'plt' is not defined"
     ]
    }
   ],
   "source": [
    "# Residuals vs Predicted\n",
    "plt.figure(figsize=(6,6))\n",
    "sns.scatterplot(x=\"prediction\", y=\"residuals\", data=predictions)\n",
    "plt.axhline(0, linestyle='--', color='red')\n",
    "plt.title(\"Residuals vs Predicted\")\n",
    "plt.xlabel(\"Predicted Salary\")\n",
    "plt.ylabel(\"Residuals\")\n",
    "plt.grid(True)\n",
    "plt.savefig(\"_output/residuals_vs_predicted.png\")\n",
    "plt.show()"
   ]
  },
  {
   "cell_type": "code",
   "execution_count": 6,
   "id": "2a42b633",
   "metadata": {},
   "outputs": [
    {
     "ename": "NameError",
     "evalue": "name 'model' is not defined",
     "output_type": "error",
     "traceback": [
      "\u001b[31m---------------------------------------------------------------------------\u001b[39m",
      "\u001b[31mNameError\u001b[39m                                 Traceback (most recent call last)",
      "\u001b[36mCell\u001b[39m\u001b[36m \u001b[39m\u001b[32mIn[6]\u001b[39m\u001b[32m, line 2\u001b[39m\n\u001b[32m      1\u001b[39m \u001b[38;5;66;03m# 7. Summary\u001b[39;00m\n\u001b[32m----> \u001b[39m\u001b[32m2\u001b[39m \u001b[38;5;28mprint\u001b[39m(\u001b[33m\"\u001b[39m\u001b[33mIntercept:\u001b[39m\u001b[33m\"\u001b[39m, \u001b[43mmodel\u001b[49m.intercept)\n\u001b[32m      3\u001b[39m \u001b[38;5;28mprint\u001b[39m(\u001b[33m\"\u001b[39m\u001b[33mCoefficients:\u001b[39m\u001b[33m\"\u001b[39m, model.coefficients)\n\u001b[32m      5\u001b[39m summary = model.summary\n",
      "\u001b[31mNameError\u001b[39m: name 'model' is not defined"
     ]
    }
   ],
   "source": [
    "# 7. Summary\n",
    "print(\"Intercept:\", model.intercept)\n",
    "print(\"Coefficients:\", model.coefficients)\n",
    "\n",
    "summary = model.summary\n",
    "summary_df = pd.DataFrame({\n",
    "    \"Estimate\": summary.coefficients,\n",
    "    \"Std Error\": summary.coefficientStandardErrors,\n",
    "    \"t-Value\": summary.tValues,\n",
    "    \"P-Value\": summary.pValues\n",
    "})\n",
    "summary_df.head()"
   ]
  },
  {
   "cell_type": "code",
   "execution_count": null,
   "id": "12622fb4-6c31-4b7b-8176-4322b025a4fc",
   "metadata": {},
   "outputs": [],
   "source": []
  },
  {
   "cell_type": "code",
   "execution_count": null,
   "id": "e5a82bde-f90b-4786-8457-51eaab77fa0a",
   "metadata": {},
   "outputs": [],
   "source": []
  },
  {
   "cell_type": "code",
   "execution_count": null,
   "id": "dfa0a468-3b00-4ec0-81a3-2ce5172763c4",
   "metadata": {},
   "outputs": [],
   "source": []
  },
  {
   "cell_type": "code",
   "execution_count": null,
   "id": "1e11ac6d-45c9-443f-8e5d-4fb4290a3a74",
   "metadata": {},
   "outputs": [],
   "source": []
  },
  {
   "cell_type": "code",
   "execution_count": null,
   "id": "ee973be0-5718-45e3-abc7-b2f5b748f49f",
   "metadata": {},
   "outputs": [],
   "source": []
  },
  {
   "cell_type": "code",
   "execution_count": null,
   "id": "59d4aa16-9c99-4273-8dc8-73a920307583",
   "metadata": {},
   "outputs": [],
   "source": []
  },
  {
   "cell_type": "code",
   "execution_count": null,
   "id": "a55b5a00-6426-4bf5-b2c1-ca46f3307b46",
   "metadata": {},
   "outputs": [],
   "source": []
  }
 ],
 "metadata": {
  "kernelspec": {
   "display_name": "Python 3 (ipykernel)",
   "language": "python",
   "name": "python3"
  },
  "language_info": {
   "codemirror_mode": {
    "name": "ipython",
    "version": 3
   },
   "file_extension": ".py",
   "mimetype": "text/x-python",
   "name": "python",
   "nbconvert_exporter": "python",
   "pygments_lexer": "ipython3",
   "version": "3.12.3"
  }
 },
 "nbformat": 4,
 "nbformat_minor": 5
}
